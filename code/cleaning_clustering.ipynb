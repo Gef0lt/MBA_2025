{
 "nbformat": 4,
 "nbformat_minor": 0,
 "metadata": {
  "colab": {
   "provenance": []
  },
  "kernelspec": {
   "name": "python3",
   "display_name": "Python 3"
  },
  "language_info": {
   "name": "python"
  }
 },
 "cells": [
  {
   "cell_type": "code",
   "execution_count": 2,
   "metadata": {
    "id": "WvohqK5gXVAQ"
   },
   "source": [
    "import pandas as pd\n",
    "import numpy as np\n",
    "import seaborn as sns\n",
    "from tabulate import tabulate\n",
    "import matplotlib.pyplot as plt\n",
    "pd.set_option('display.max_columns', None)"
   ],
   "outputs": []
  },
  {
   "cell_type": "code",
   "source": [
    "from google.colab import drive\n",
    "drive.mount('/content/drive')\n",
    "file_path = '/content/drive/MyDrive/03&04_17_VSE.csv'\n",
    "df_orig = pd.read_csv(file_path, encoding='cp1251', sep=\";\", thousands=' ', decimal=',')\n"
   ],
   "metadata": {
    "colab": {
     "base_uri": "https://localhost:8080/"
    },
    "id": "9JQTD30vXjJA",
    "outputId": "ed68e70e-68c7-44cb-d501-e3ce458ca77c"
   },
   "execution_count": 3,
   "outputs": []
  },
  {
   "cell_type": "code",
   "source": [
    "df = df_orig\n",
    "df.info()"
   ],
   "metadata": {
    "colab": {
     "base_uri": "https://localhost:8080/"
    },
    "id": "J-QkwWyTXpxe",
    "outputId": "4989c43e-7226-4586-88ae-db715b54153f"
   },
   "execution_count": 4,
   "outputs": []
  },
  {
   "cell_type": "code",
   "source": [
    "df"
   ],
   "metadata": {
    "colab": {
     "base_uri": "https://localhost:8080/",
     "height": 964
    },
    "id": "1OZtSsxgXvNs",
    "outputId": "087cb469-37c6-4d28-c36a-908923248499"
   },
   "execution_count": 5,
   "outputs": []
  },
  {
   "cell_type": "code",
   "source": [
    "def columnValues(df):\n",
    "    row = [df.nunique(), (df == 0).sum(axis=0), df.isna().sum(), round(df.isna().sum() / len(df) * 100, 1), df.dtypes]\n",
    "    return row\n",
    "\n",
    "data = []\n",
    "for column in df:\n",
    "    data.append([column] + columnValues(df[column]))\n",
    "\n",
    "print(tabulate(data, headers=['Column', 'Count Unique', 'Count Zeros', 'Count NaNs','% of NaNs', 'data type'], tablefmt='orgtbl'))"
   ],
   "metadata": {
    "colab": {
     "base_uri": "https://localhost:8080/"
    },
    "id": "cPuqR3hDX6jF",
    "outputId": "31a2595b-0d4c-4295-f956-4d79e66946a5"
   },
   "execution_count": 6,
   "outputs": []
  },
  {
   "cell_type": "code",
   "source": [
    "df['НовыйСтатус'].value_counts()"
   ],
   "metadata": {
    "colab": {
     "base_uri": "https://localhost:8080/",
     "height": 554
    },
    "id": "rCcUXcGvJv8y",
    "outputId": "f9810f2e-88be-42da-f5bc-c376f117262f"
   },
   "execution_count": 7,
   "outputs": []
  },
  {
   "cell_type": "code",
   "source": [
    "DROP_ALWAYS = [\n",
    "    'ID_SKU', 'ЭлектроннаяПочта_new', 'Клиент', 'ПВЗ_код',\n",
    "    'ГородМагазина', 'МагазинЗаказа', 'Маржа', 'ЦенаЗакупки',\n",
    "    'НомерСтроки', 'OneClick',           # тех-ID\n",
    "    'МетодДоставки',                     # удаляем delivery-фичи\n",
    "    'Дата', 'ДатаДоставки', 'ДатаЗаказаНаСайте',\n",
    "    'МесяцДатыЗаказа', 'ГодДатыЗаказа',  # календарь не нужен\n",
    "    'Статус'                             # дублирует НовыйСтатус\n",
    "]\n",
    "df.drop(columns=[c for c in DROP_ALWAYS if c in df.columns], inplace=True)"
   ],
   "metadata": {
    "id": "j6b9-5ORX7WM"
   },
   "execution_count": 8,
   "outputs": []
  },
  {
   "cell_type": "code",
   "source": [
    "# ───────────────────── 0. Справочники ──────────────────────────────\n",
    "SUBJECT2FO = {\n",
    "    # Центральный (ЦФО)\n",
    "    'Москва':'ЦФО','Московская область':'ЦФО','Тверская область':'ЦФО','Смоленская область':'ЦФО',\n",
    "    'Тульская область':'ЦФО','Калужская область':'ЦФО','Ярославская область':'ЦФО',\n",
    "    'Владимирская область':'ЦФО','Рязанская область':'ЦФО','Ивановская область':'ЦФО',\n",
    "    'Костромская область':'ЦФО','Белгородская область':'ЦФО','Курская область':'ЦФО',\n",
    "    'Орловская область':'ЦФО','Брянская область':'ЦФО','Липецкая область':'ЦФО',\n",
    "    'Тамбовская область':'ЦФО','Воронежская область':'ЦФО',\n",
    "    # Северо-Запад\n",
    "    'Санкт-Петербург':'СЗФО','Ленинградская область':'СЗФО','Новгородская область':'СЗФО',\n",
    "    'Псковская область':'СЗФО','Архангельская область':'СЗФО','Мурманская область':'СЗФО',\n",
    "    'Вологодская область':'СЗФО','Карелия':'СЗФО','Коми':'СЗФО','Ненецкий автономный округ':'СЗФО',\n",
    "    # Южный\n",
    "    'Краснодарский край':'ЮФО','Республика Крым':'ЮФО','Севастополь':'ЮФО',\n",
    "    'Ростовская область':'ЮФО','Волгоградская область':'ЮФО','Астраханская область':'ЮФО',\n",
    "    'Калмыкия':'ЮФО','Адыгея':'ЮФО',\n",
    "    # Северо-Кавказский\n",
    "    'Ставропольский край':'СКФО','Дагестан':'СКФО','Чечня':'СКФО','Ингушетия':'СКФО',\n",
    "    'Северная Осетия':'СКФО','Кабардино-Балкария':'СКФО','Карачаево-Черкесия':'СКФО',\n",
    "    # Приволжский\n",
    "    'Нижегородская область':'ПФО','Пермский край':'ПФО','Татарстан':'ПФО','Башкортостан':'ПФО',\n",
    "    'Удмуртия':'ПФО','Чувашия':'ПФО','Марий Эл':'ПФО','Мордовия':'ПФО',\n",
    "    'Оренбургская область':'ПФО','Самарская область':'ПФО','Саратовская область':'ПФО',\n",
    "    'Ульяновская область':'ПФО','Пензенская область':'ПФО','Кировская область':'ПФО',\n",
    "    # Уральский\n",
    "    'Свердловская область':'УФО','Челябинская область':'УФО','Тюменская область':'УФО',\n",
    "    'Курганская область':'УФО','Ханты-Мансийский автономный округ':'УФО',\n",
    "    'Ямало-Ненецкий автономный округ':'УФО',\n",
    "    # Сибирский\n",
    "    'Алтайский край':'СФО','Красноярский край':'СФО','Кемеровская область':'СФО',\n",
    "    'Новосибирская область':'СФО','Омская область':'СФО','Томская область':'СФО',\n",
    "    'Иркутская область':'СФО','Бурятия':'СФО','Тыва':'СФО','Хакасия':'СФО',\n",
    "    'Забайкальский край':'СФО',\n",
    "    # Дальневосточный\n",
    "    'Хабаровский край':'ДФО','Приморский край':'ДФО','Амурская область':'ДФО',\n",
    "    'Сахалинская область':'ДФО','Магаданская область':'ДФО','Камчатский край':'ДФО',\n",
    "    'Чукотский автономный округ':'ДФО','Якутия':'ДФО','Еврейская автономная область':'ДФО',\n",
    "}\n",
    "\n",
    "# (1) «Критические» города или посёлки, где субъект не указан в скобках\n",
    "CITY2SUBJECT = {\n",
    "    'Москва':'Москва','Зеленоград':'Москва','Подольск':'Московская область','Королев':'Московская область',\n",
    "    'Химки':'Московская область','Балашиха':'Московская область','Мытищи':'Московская область',\n",
    "    'Люберцы':'Московская область','Красногорск':'Московская область','Электросталь':'Московская область',\n",
    "    'Челябинск':'Челябинская область','Екатеринбург':'Свердловская область','Нижний Новгород':'Нижегородская область',\n",
    "    'Казань':'Татарстан','Самара':'Самарская область','Уфа':'Башкортостан','Пермь':'Пермский край',\n",
    "    'Ростов-на-Дону':'Ростовская область','Краснодар':'Краснодарский край','Сочи':'Краснодарский край',\n",
    "    'Волгоград':'Волгоградская область','Астрахань':'Астраханская область','Саратов':'Саратовская область',\n",
    "    'Ижевск':'Удмуртия','Йошкар-Ола':'Марий Эл','Чебоксары':'Чувашия','Тверь':'Тверская область',\n",
    "    'Тула':'Тульская область','Брянск':'Брянская область','Смоленск':'Смоленская область',\n",
    "    'Воронеж':'Воронежская область','Белгород':'Белгородская область','Курск':'Курская область',\n",
    "    'Калуга':'Калужская область','Иваново':'Ивановская область','Ярославль':'Ярославская область',\n",
    "    'Вологда':'Вологодская область','Архангельск':'Архангельская область','Мурманск':'Мурманская область',\n",
    "    'Петрозаводск':'Карелия','Сыктывкар':'Коми','Новосибирск':'Новосибирская область',\n",
    "    'Омск':'Омская область','Томск':'Томская область','Барнаул':'Алтайский край',\n",
    "    'Кемерово':'Кемеровская область','Красноярск':'Красноярский край','Иркутск':'Иркутская область',\n",
    "    'Чита':'Забайкальский край','Хабаровск':'Хабаровский край','Владивосток':'Приморский край',\n",
    "    'Южно-Сахалинск':'Сахалинская область','Магадан':'Магаданская область','Якутск':'Якутия',\n",
    "    'Петропавловск-Камчатский':'Камчатский край','Симферополь':'Республика Крым','Севастополь':'Севастополь',\n",
    "    'Грозный':'Чечня','Махачкала':'Дагестан','Назрань':'Ингушетия','Нальчик':'Кабардино-Балкария',\n",
    "    'Владикавказ':'Северная Осетия',\n",
    "}\n",
    "\n",
    "import re, pandas as pd\n",
    "\n",
    "def map_fo(region: str) -> str:\n",
    "    \"\"\"Определяет федеральный округ по строке `region`.\"\"\"\n",
    "    if pd.isna(region):\n",
    "        return 'Other_FO'\n",
    "\n",
    "    txt = str(region).strip()\n",
    "\n",
    "    # 1) если в скобках указан субъект — берём его\n",
    "    match = re.search(r'\\(([^)]+)\\)', txt)\n",
    "    if match:\n",
    "        subj = match.group(1).replace('район','').strip()\n",
    "        if subj in SUBJECT2FO:\n",
    "            return SUBJECT2FO[subj]\n",
    "\n",
    "    # 2) прямой словарь “город → субъект”\n",
    "    if txt in CITY2SUBJECT:\n",
    "        subj = CITY2SUBJECT[txt]\n",
    "        return SUBJECT2FO.get(subj, 'Other_FO')\n",
    "\n",
    "    # 3) ищем любое вхождение субъекта в строке\n",
    "    for subj, fo in SUBJECT2FO.items():\n",
    "        if subj in txt:\n",
    "            return fo\n",
    "\n",
    "    # 4) не нашли\n",
    "    return 'Other_FO'\n"
   ],
   "metadata": {
    "id": "PjhrBYmmYEud"
   },
   "execution_count": 9,
   "outputs": []
  },
  {
   "cell_type": "code",
   "source": [
    "df = df[df['Отменено'] != 'Да']                          # только завершённые\n",
    "df = df[df['КоличествоПроданоКлиенту'] > 0]              # нет частичных возвратов\n",
    "df = df[~df['ПричинаОтмены'].str.contains('тест|дубл', case=False, na=False)]\n",
    "df.drop(columns=['Отменено', 'ПричинаОтмены'], inplace=True, errors='ignore')\n",
    "\n",
    "df = df[df['Телефон_new'].notna() & (df['Телефон_new'] != '0')]  # валидный ID\n",
    "df = df[df['НовыйСтатус'] == 'Доставлен']                      # оставляем только доставленные\n",
    "df = df[df['Тип'].str.lower() != 'иное']                         # убираем «иное»\n",
    "df = df[df['Группа2'].notna()]                                   # нужная категория\n",
    "# df = df[(df['Цена'] > 0) & (df['СуммаСтроки'] > 0) & (df['Цена'] >= 200)]"
   ],
   "metadata": {
    "id": "VxZB_h1qYGhZ"
   },
   "execution_count": 10,
   "outputs": []
  },
  {
   "cell_type": "code",
   "source": [
    "data = []\n",
    "for column in df:\n",
    "    data.append([column] + columnValues(df[column]))\n",
    "\n",
    "print(tabulate(data, headers=['Column', 'Count Unique', 'Count Zeros', 'Count NaNs','% of NaNs', 'data type'], tablefmt='orgtbl'))"
   ],
   "metadata": {
    "colab": {
     "base_uri": "https://localhost:8080/"
    },
    "id": "f6lH5E02YVK2",
    "outputId": "7c3bc086-549a-495e-c56e-1710262adf37"
   },
   "execution_count": 11,
   "outputs": []
  },
  {
   "cell_type": "code",
   "source": [
    "df.dropna(subset=['Регион', 'Группа4'], inplace=True)"
   ],
   "metadata": {
    "id": "y1VHp5UNYjjL"
   },
   "execution_count": 12,
   "outputs": []
  },
  {
   "cell_type": "code",
   "source": [
    "df['СуммаБезСкидки'] = df['Цена'] * df['Количество']\n",
    "df['Скидка'] = df['СуммаБезСкидки'] - df['СуммаСтроки']\n",
    "# def map_fo(txt):\n",
    "#     if pd.isna(txt): return 'Other_FO'\n",
    "#     m = re.search(r'\\(([^)]+)\\)', str(txt))\n",
    "#     if m and m.group(1).strip() in SUBJECT2FO:\n",
    "#         return SUBJECT2FO[m.group(1).strip()]\n",
    "#     if txt in CITY2SUBJECT:\n",
    "#         return SUBJECT2FO.get(CITY2SUBJECT[txt], 'Other_FO')\n",
    "#     for sbj, fo in SUBJECT2FO.items():\n",
    "#         if sbj in txt: return fo\n",
    "#     return 'Other_FO'\n",
    "\n",
    "# df['ФО'] = df['Регион'].apply(map_fo)\n"
   ],
   "metadata": {
    "id": "eVJmoYlJYr7F"
   },
   "execution_count": 13,
   "outputs": []
  },
  {
   "cell_type": "code",
   "source": [
    "id_col = 'Телефон_new'\n",
    "agg = (df.groupby(id_col)\n",
    "         .agg(ЧислоЗаказов=('НомерЗаказаНаСайте', 'nunique'),\n",
    "              ОбщаяСуммаПокупок=('СуммаСтроки', 'sum'),\n",
    "              ОбщееКоличествоТоваров=('Количество', 'sum'),\n",
    "              СуммаСкидки=('Скидка', 'sum'))\n",
    "      )\n",
    "\n",
    "# производные метрики\n",
    "agg['СреднийЧек']            = (agg['ОбщаяСуммаПокупок'] / agg['ЧислоЗаказов']).round(2)\n",
    "agg['СрКолТоваров_вЧеке']    = (agg['ОбщееКоличествоТоваров'] / agg['ЧислоЗаказов']).round(2)\n",
    "agg['ДоляСкидки']            = (agg['СуммаСкидки'] / agg['ОбщаяСуммаПокупок']).round(3)"
   ],
   "metadata": {
    "id": "-3Dz34sWYxLz"
   },
   "execution_count": 14,
   "outputs": []
  },
  {
   "cell_type": "code",
   "source": [
    "def ohe(col, pref):\n",
    "    return (pd.crosstab(df[id_col], df[col])\n",
    "              .add_prefix(pref)\n",
    "              .astype('int16'))\n",
    "\n",
    "vit = pd.concat([\n",
    "        agg,\n",
    "        ohe('Группа2',     'G2_'),      # 13 категорий товаров\n",
    "        # ohe('ФормаОплаты', 'Pay_'),     # 2 способа оплаты\n",
    "        # ohe('ФО',          'FO_')       # 8 округов + Other\n",
    "      ], axis=1).fillna(0)\n",
    "\n",
    "vit = vit.copy()   # дефрагментация\n",
    "print('финальная витрина:', vit.shape)\n",
    "vit.head()"
   ],
   "metadata": {
    "colab": {
     "base_uri": "https://localhost:8080/",
     "height": 397
    },
    "id": "BXL-EljRYzuc",
    "outputId": "b474737e-7301-463b-d504-ae48dfc7fb5e"
   },
   "execution_count": 15,
   "outputs": []
  },
  {
   "cell_type": "code",
   "source": [
    "vit"
   ],
   "metadata": {
    "colab": {
     "base_uri": "https://localhost:8080/",
     "height": 683
    },
    "id": "XzP8xOsLY4BY",
    "outputId": "a741b96a-8b0b-4d88-fd08-2f54fddc94d9"
   },
   "execution_count": 16,
   "outputs": []
  },
  {
   "cell_type": "code",
   "source": [
    "vit.info()"
   ],
   "metadata": {
    "colab": {
     "base_uri": "https://localhost:8080/"
    },
    "id": "ukqwsO-zY4su",
    "outputId": "567ea854-18f8-4264-ede1-f1f08ead26d6"
   },
   "execution_count": 17,
   "outputs": []
  },
  {
   "cell_type": "code",
   "source": [
    "vit.describe()"
   ],
   "metadata": {
    "colab": {
     "base_uri": "https://localhost:8080/",
     "height": 355
    },
    "id": "w0Jvrqr9Y9od",
    "outputId": "0bb22e6c-7f90-4bbb-dff3-252aa2ce31b9"
   },
   "execution_count": 20,
   "outputs": []
  },
  {
   "cell_type": "code",
   "source": [
    "vit.drop(columns=['СуммаСкидки', 'ДоляСкидки'], inplace=True)"
   ],
   "metadata": {
    "id": "Kd3vPZG8LoDH"
   },
   "execution_count": 19,
   "outputs": []
  },
  {
   "cell_type": "code",
   "source": "vit.to_csv('vitrina_clean.csv', index=True, encoding='utf8')",
   "metadata": {
    "id": "Om5eGaxJY-5o"
   },
   "execution_count": 21,
   "outputs": []
  },
  {
   "cell_type": "code",
   "source": [
    "from sklearn.preprocessing import StandardScaler\n",
    "import numpy as np\n",
    "\n",
    "\n",
    "\n",
    "OUTLIER_SHARE   = 0.10     # 1 % клиентов считаем выбросами\n",
    "# FO_WEIGHT       = 0.3      # ослабляем регионы\n",
    "RANDOM_STATE    = 42\n",
    "K_RANGE         = range(2, 11)   # перебираем k = 2 … 10\n",
    "\n",
    "\n",
    "num_cols = ['ЧислоЗаказов', 'ОбщаяСуммаПокупок', 'ОбщееКоличествоТоваров',\n",
    "             'СреднийЧек',        'СрКолТоваров_вЧеке']\n",
    "# fo_cols  = [c for c in vit.columns if c.startswith('FO_')]\n",
    "bin_cols = vit.columns.difference(num_cols)\n",
    "\n",
    "X = np.hstack([\n",
    "        StandardScaler().fit_transform(vit[num_cols]),       # 7 числовых\n",
    "        vit[bin_cols].values.astype('float32'),              #  (13+2) бинарных\n",
    "        # vit[fo_cols].values.astype('float32') * FO_WEIGHT    # 8–9 FO_ ×0.3\n",
    "    ])"
   ],
   "metadata": {
    "id": "RpUks2OHZgL5"
   },
   "execution_count": 22,
   "outputs": []
  },
  {
   "cell_type": "code",
   "source": [
    "from sklearn.ensemble import IsolationForest\n",
    "\n",
    "iso = IsolationForest(contamination=OUTLIER_SHARE, n_estimators=200,\n",
    "                      random_state=RANDOM_STATE, n_jobs=-1).fit(X)\n",
    "mask_ok = iso.predict(X) == 1\n",
    "print('выбросов удалено:', (~mask_ok).sum())\n",
    "\n",
    "vit_ok = vit.loc[mask_ok].copy()\n",
    "X_ok   = X[mask_ok]"
   ],
   "metadata": {
    "colab": {
     "base_uri": "https://localhost:8080/"
    },
    "id": "vQeboK8qadfb",
    "outputId": "8b6954d4-aede-48ed-9f34-92b84c254198"
   },
   "execution_count": 23,
   "outputs": []
  },
  {
   "cell_type": "code",
   "source": [
    "import numpy as np, matplotlib.pyplot as plt, pandas as pd\n",
    "from sklearn.cluster import KMeans\n",
    "from sklearn.metrics  import silhouette_score, calinski_harabasz_score, davies_bouldin_score\n",
    "from sklearn.decomposition import PCA\n",
    "\n",
    "\n",
    "K_RANGE = range(2,15)\n",
    "RND = 42\n",
    "\n",
    "sil, ch, db, sse = [], [], [], []\n",
    "sample = np.random.default_rng(RND).choice(X_ok.shape[0], 20000, replace=False)\n",
    "\n",
    "print(\"k | sil |   CH   |  DB  |   SSE \")\n",
    "for k in K_RANGE:\n",
    "    km = KMeans(k, n_init=30, max_iter=600, random_state=RND).fit(X_ok)\n",
    "    lbl = km.labels_\n",
    "    sil.append(silhouette_score(X_ok[sample], lbl[sample]))\n",
    "    ch.append(calinski_harabasz_score(X_ok, lbl))\n",
    "    db.append(davies_bouldin_score(X_ok, lbl))\n",
    "    sse.append(km.inertia_)\n",
    "    print(f\"{k:2d}|{sil[-1]:.3f}|{ch[-1]:7.0f}|{db[-1]:5.2f}|{sse[-1]:8.0f}\")\n",
    "\n",
    "fig, ax = plt.subplots(2, 2, figsize=(12, 8))\n",
    "\n",
    "ax[0, 0].plot(K_RANGE, sil, marker='o')\n",
    "ax[0, 0].set_title('Silhouette (↑)')\n",
    "ax[0, 0].set_xlabel('k')\n",
    "ax[0, 0].set_ylabel('score')\n",
    "\n",
    "ax[0, 1].plot(K_RANGE, sse, marker='o')\n",
    "ax[0, 1].set_title('Elbow (SSE ↓)')\n",
    "ax[0, 1].set_xlabel('k')\n",
    "ax[0, 1].set_ylabel('SSE')\n",
    "\n",
    "ax[1, 0].plot(K_RANGE, ch, marker='o')\n",
    "ax[1, 0].set_title('Calinski–Harabasz (↑)')\n",
    "ax[1, 0].set_xlabel('k')\n",
    "ax[1, 0].set_ylabel('score')\n",
    "\n",
    "ax[1, 1].plot(K_RANGE, db, marker='o')\n",
    "ax[1, 1].set_title('Davies–Bouldin (↓)')\n",
    "ax[1, 1].set_xlabel('k')\n",
    "ax[1, 1].set_ylabel('score')\n",
    "\n",
    "plt.tight_layout()\n",
    "plt.show()\n"
   ],
   "metadata": {
    "colab": {
     "base_uri": "https://localhost:8080/",
     "height": 1000
    },
    "id": "AXlMPdo2anDD",
    "outputId": "adde70fb-f130-424d-fa46-3f91d04d7d27"
   },
   "execution_count": 24,
   "outputs": []
  },
  {
   "cell_type": "code",
   "source": [
    "RND = 42\n",
    "KS  = [2, 3, 4, 5, 6, 7, 8, 9, 10, 11, 12, 13, 14] # № кластеров\n",
    "SAMPLE = 20000            # сколько точек на scatter\n",
    "pca = PCA(n_components=2, random_state=RND)\n",
    "coords = pca.fit_transform(X_ok)\n",
    "\n",
    "rng   = np.random.default_rng(RND)\n",
    "idx   = rng.choice(len(coords), SAMPLE, replace=False)\n",
    "coords_s = coords[idx]\n",
    "\n",
    "# --- готовим фигуру ------------------------------------------------\n",
    "fig, axes = plt.subplots(len(KS), 2, figsize=(12, 4*len(KS)))\n",
    "\n",
    "for row, k in enumerate(KS):\n",
    "    km  = KMeans(k, n_init=30, max_iter=600, random_state=RND).fit(X_ok)\n",
    "    labs_full = km.labels_\n",
    "    labs_s    = labs_full[idx]\n",
    "\n",
    "    # ---- scatter PCA ----\n",
    "    ax_sc = axes[row, 0]\n",
    "    sc = ax_sc.scatter(coords_s[:,0], coords_s[:,1],\n",
    "                       c=labs_s, s=6, alpha=0.6, cmap='tab10')\n",
    "    ax_sc.set_title(f\"PCA (k={k}) — PC1={pca.explained_variance_ratio_[0]*100:.1f}%, \"\n",
    "                    f\"PC2={pca.explained_variance_ratio_[1]*100:.1f}%\")\n",
    "    ax_sc.set_xlabel(\"PC1\"); ax_sc.set_ylabel(\"PC2\")\n",
    "    ax_sc.grid(ls='--', alpha=0.3)\n",
    "\n",
    "    # ---- pie chart ----\n",
    "    ax_pie = axes[row, 1]\n",
    "    counts = np.bincount(labs_full)\n",
    "    labels = [str(i) for i in range(k)]\n",
    "    ax_pie.pie(counts, labels=labels, autopct='%1.1f%%', startangle=90,\n",
    "               colors=plt.cm.tab10.colors)\n",
    "    ax_pie.set_title(f\"Распределение клиентов (k={k})\")\n",
    "\n",
    "plt.tight_layout()\n",
    "plt.show()"
   ],
   "metadata": {
    "colab": {
     "base_uri": "https://localhost:8080/",
     "height": 1000
    },
    "id": "pWErRrUJcAip",
    "outputId": "77168403-ccf9-429c-cdb8-3f5d4c886f75"
   },
   "execution_count": 25,
   "outputs": []
  },
  {
   "cell_type": "code",
   "source": [
    "# vit_ok['Кластер'] = KMeans(6, n_init=40, max_iter=700,\n",
    "#                            random_state=42).fit_predict(X_ok)\n"
   ],
   "metadata": {
    "id": "zZE2mZ5GeveX"
   },
   "execution_count": null,
   "outputs": []
  },
  {
   "cell_type": "code",
   "source": [
    "from sklearn.mixture import GaussianMixture\n",
    "\n",
    "\n",
    "RND = 42\n",
    "COMPONENTS = range(2, 15)\n",
    "\n",
    "sil, ch, db, bic, aic = [], [], [], [], []\n",
    "\n",
    "sample = np.random.default_rng(RND).choice(X_ok.shape[0], 20000, replace=False)\n",
    "\n",
    "print(\"k | sil |  CH  |  DB  |   BIC   |   AIC\")\n",
    "for k in COMPONENTS:\n",
    "    gmm = GaussianMixture(n_components=k, covariance_type='diag',\n",
    "                          random_state=RND, n_init=5).fit(X_ok)\n",
    "    labels = gmm.predict(X_ok)\n",
    "    sil.append(silhouette_score(X_ok[sample], labels[sample]))\n",
    "    ch.append(calinski_harabasz_score(X_ok, labels))\n",
    "    db.append(davies_bouldin_score(X_ok, labels))\n",
    "    bic.append(gmm.bic(X_ok))\n",
    "    aic.append(gmm.aic(X_ok))\n",
    "    print(f\"{k:2d}|{sil[-1]:.3f}|{ch[-1]:6.0f}|{db[-1]:5.2f}|{bic[-1]:8.0f}|{aic[-1]:8.0f}\")\n",
    "\n",
    "# --- графики для GMM ---\n",
    "fig, ax = plt.subplots(2, 3, figsize=(15, 8))\n",
    "\n",
    "ax[0,0].plot(COMPONENTS, sil, 'o-'); ax[0,0].set_title('Silhouette (↑)'); ax[0,0].set_xlabel('k')\n",
    "ax[0,1].plot(COMPONENTS, ch, 'o-');  ax[0,1].set_title('Calinski‑Harabasz (↑)'); ax[0,1].set_xlabel('k')\n",
    "ax[0,2].plot(COMPONENTS, db, 'o-');  ax[0,2].set_title('Davies‑Bouldin (↓)');   ax[0,2].set_xlabel('k')\n",
    "\n",
    "ax[1,0].plot(COMPONENTS, bic, 'o-'); ax[1,0].set_title('BIC (↓)'); ax[1,0].set_xlabel('k')\n",
    "ax[1,1].plot(COMPONENTS, aic, 'o-'); ax[1,1].set_title('AIC (↓)'); ax[1,1].set_xlabel('k')\n",
    "\n",
    "ax[1,2].axis('off')   # пустая ячейка для ровной сетки\n",
    "\n",
    "plt.tight_layout()\n",
    "plt.show()"
   ],
   "metadata": {
    "colab": {
     "base_uri": "https://localhost:8080/",
     "height": 953
    },
    "id": "s88ewLikfJWD",
    "outputId": "12aefcbb-995a-43b5-d273-bef75bff662e"
   },
   "execution_count": 26,
   "outputs": []
  },
  {
   "cell_type": "code",
   "source": [
    "# BEST_K = 11\n",
    "# gmm = GaussianMixture(n_components=BEST_K, covariance_type='diag',\n",
    "#                       random_state=42, n_init=5).fit(X_ok)\n",
    "# vit_ok['EM_Кластер'] = gmm.predict(X_ok)\n",
    "\n",
    "# print('Размеры EM-кластеров:', np.bincount(vit_ok['EM_Кластер']))\n"
   ],
   "metadata": {
    "id": "URivUA2KfOS8"
   },
   "execution_count": null,
   "outputs": []
  },
  {
   "cell_type": "code",
   "source": [
    "# prompt: visualize pca client distribution among 10, 11, 12  gmm clusters in pie chart\n",
    "\n",
    "RND = 42\n",
    "KS_GMM = [2, 3, 4, 5, 6, 7, 8, 9, 10, 11, 12, 13, 14] # № кластеров для GMM\n",
    "SAMPLE = 20000            # сколько точек на scatter\n",
    "pca = PCA(n_components=2, random_state=RND)\n",
    "coords = pca.fit_transform(X_ok)\n",
    "\n",
    "rng   = np.random.default_rng(RND)\n",
    "idx   = rng.choice(len(coords), SAMPLE, replace=False)\n",
    "coords_s = coords[idx]\n",
    "\n",
    "# --- готовим фигуру для GMM ---\n",
    "fig, axes = plt.subplots(len(KS_GMM), 2, figsize=(12, 4*len(KS_GMM)))\n",
    "\n",
    "for row, k in enumerate(KS_GMM):\n",
    "    gmm = GaussianMixture(n_components=k, covariance_type='diag',\n",
    "                          random_state=RND, n_init=5).fit(X_ok)\n",
    "    labs_full = gmm.predict(X_ok)\n",
    "    labs_s    = labs_full[idx]\n",
    "\n",
    "    # ---- scatter PCA ----\n",
    "    ax_sc = axes[row, 0]\n",
    "    sc = ax_sc.scatter(coords_s[:,0], coords_s[:,1],\n",
    "                       c=labs_s, s=6, alpha=0.6, cmap='tab10')\n",
    "    ax_sc.set_title(f\"PCA (GMM, k={k}) — PC1={pca.explained_variance_ratio_[0]*100:.1f}%, \"\n",
    "                    f\"PC2={pca.explained_variance_ratio_[1]*100:.1f}%\")\n",
    "    ax_sc.set_xlabel(\"PC1\"); ax_sc.set_ylabel(\"PC2\")\n",
    "    ax_sc.grid(ls='--', alpha=0.3)\n",
    "\n",
    "    # ---- pie chart ----\n",
    "    ax_pie = axes[row, 1]\n",
    "    counts = np.bincount(labs_full)\n",
    "    labels = [str(i) for i in range(k)]\n",
    "    ax_pie.pie(counts, labels=labels, autopct='%1.1f%%', startangle=90,\n",
    "               colors=plt.cm.tab20.colors) # Using tab20 as tab10 might not have enough colors for 12 clusters\n",
    "    ax_pie.set_title(f\"Распределение клиентов (GMM, k={k})\")\n",
    "\n",
    "plt.tight_layout()\n",
    "plt.show()\n"
   ],
   "metadata": {
    "colab": {
     "base_uri": "https://localhost:8080/",
     "height": 1000
    },
    "id": "HAcrWSEB1jCl",
    "outputId": "ecbe21be-b993-4487-b1e7-d6b308592f72"
   },
   "execution_count": 27,
   "outputs": []
  },
  {
   "cell_type": "code",
   "source": [
    "vit_ok"
   ],
   "metadata": {
    "colab": {
     "base_uri": "https://localhost:8080/",
     "height": 683
    },
    "id": "-TixORI1iSTU",
    "outputId": "121f8739-9db6-4707-a656-25919a39d6bb"
   },
   "execution_count": 28,
   "outputs": []
  },
  {
   "cell_type": "code",
   "source": [
    "k_list = [9, 10, 11]\n",
    "gmm_list = [8, 9, 10, 11]\n",
    "\n",
    "# ────────── K-means (добавим, если ещё нет) ──────────\n",
    "for k in k_list:\n",
    "    col = f'K{k}_Кластер'\n",
    "    if col not in vit_ok.columns:\n",
    "        vit_ok[col] = KMeans(k, n_init=40, max_iter=700,\n",
    "                             random_state=RND).fit_predict(X_ok)\n",
    "        print(f'K-means k={k} → добавлен столбец {col}')\n",
    "\n",
    "# ────────── GMM / EM (добавим, если ещё нет) ─────────\n",
    "for k in gmm_list:\n",
    "    col = f'G{k}_Кластер'\n",
    "    if col not in vit_ok.columns:\n",
    "        gmm = GaussianMixture(n_components=k,\n",
    "                              covariance_type='full',\n",
    "                              init_params='kmeans',\n",
    "                              n_init=10,\n",
    "                              random_state=RND).fit(X_ok)\n",
    "        vit_ok[col] = gmm.predict(X_ok)\n",
    "        print(f'GMM k={k} → добавлен столбец {col}')\n"
   ],
   "metadata": {
    "colab": {
     "base_uri": "https://localhost:8080/"
    },
    "id": "OkjLG5iAiTP3",
    "outputId": "1a1f2cdb-82e1-4450-842a-1bf909db92f1"
   },
   "execution_count": 29,
   "outputs": []
  },
  {
   "cell_type": "code",
   "source": [
    "vit_ok"
   ],
   "metadata": {
    "colab": {
     "base_uri": "https://localhost:8080/",
     "height": 683
    },
    "id": "HAoPlnydkAzA",
    "outputId": "a793484d-a13a-49cd-fa7e-281de78e9ba1"
   },
   "execution_count": 30,
   "outputs": []
  },
  {
   "cell_type": "code",
   "source": [
    "# # список «устаревших» колонок — удаляем, если есть\n",
    "# drop_cols = ['Кластер', 'EM_Кластер']\n",
    "# vit_ok = vit_ok.drop(columns=[c for c in drop_cols if c in vit_ok.columns])\n",
    "\n",
    "# сохраняем обновлённую версию\n",
    "vit_ok.to_csv('vitrina_clients_clusters_all_new.csv', index=True, encoding='utf-8')\n",
    "print('файл перезаписан.')\n"
   ],
   "metadata": {
    "colab": {
     "base_uri": "https://localhost:8080/"
    },
    "id": "2nEHlJ-qkByb",
    "outputId": "51263e09-e5ad-4245-dd74-c2e0978ed70c"
   },
   "execution_count": 31,
   "outputs": []
  },
  {
   "cell_type": "code",
   "source": [
    "vit_ok"
   ],
   "metadata": {
    "colab": {
     "base_uri": "https://localhost:8080/",
     "height": 683
    },
    "id": "kSisxBVGkfoZ",
    "outputId": "d30c636e-f5c7-4822-f79d-2853253f88b2"
   },
   "execution_count": 32,
   "outputs": []
  },
  {
   "cell_type": "code",
   "source": [
    "df"
   ],
   "metadata": {
    "colab": {
     "base_uri": "https://localhost:8080/",
     "height": 999
    },
    "id": "09Zb7enEkgnM",
    "outputId": "10fbf644-d96e-445c-ffd5-70d1f649172c"
   },
   "execution_count": 33,
   "outputs": []
  },
  {
   "cell_type": "code",
   "source": [
    "cluster_cols = ['K9_Кластер','K10_Кластер','K11_Кластер',\n",
    "                'G8_Кластер','G9_Кластер','G10_Кластер', 'G11_Кластер']\n",
    "\n",
    "df_full = df.merge(\n",
    "            vit_ok[cluster_cols],\n",
    "            left_on='Телефон_new',     # ключ в df\n",
    "            right_index=True,          # индекс = Телефон_new в vit_ok\n",
    "            how='left'\n",
    "          )\n",
    "\n",
    "print('Размер после merge:', df_full.shape)\n"
   ],
   "metadata": {
    "colab": {
     "base_uri": "https://localhost:8080/"
    },
    "id": "uLpLEDG6lsmK",
    "outputId": "aa854c6e-803b-4036-edbc-97598116ff0d"
   },
   "execution_count": 34,
   "outputs": []
  },
  {
   "cell_type": "code",
   "source": [
    "#  CSV сжатый (совместим с Excel 2016+)\n",
    "csv_name = 'data/transactions_clean_with_clusters.csv'\n",
    "df_full.to_csv(csv_name, index=False, encoding='utf-8')\n",
    "\n",
    "\n"
   ],
   "metadata": {
    "id": "tLemKitMl4r3"
   },
   "execution_count": 35,
   "outputs": []
  },
  {
   "cell_type": "code",
   "source": [
    "df.describe()"
   ],
   "metadata": {
    "colab": {
     "base_uri": "https://localhost:8080/",
     "height": 337
    },
    "id": "K20LfaHRo0eP",
    "outputId": "9802e645-ea83-4e91-9c9c-1b58fa6c0881"
   },
   "execution_count": 36,
   "outputs": []
  },
  {
   "cell_type": "code",
   "source": [
    "df_final = pd.read_csv('data/transactions_clean_with_clusters.csv', encoding='utf-8')\n",
    "df_final"
   ],
   "metadata": {
    "colab": {
     "base_uri": "https://localhost:8080/",
     "height": 999
    },
    "id": "lxwawkmQ9Wwj",
    "outputId": "906bcde7-025a-46e3-9acc-923a9ba4de6b"
   },
   "execution_count": 37,
   "outputs": []
  },
  {
   "cell_type": "code",
   "source": [],
   "metadata": {
    "id": "4b77NKRaAVlo"
   },
   "execution_count": null,
   "outputs": []
  }
 ]
}
